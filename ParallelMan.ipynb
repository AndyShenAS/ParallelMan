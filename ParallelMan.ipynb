{
 "cells": [
  {
   "cell_type": "code",
   "execution_count": 1,
   "metadata": {},
   "outputs": [
    {
     "name": "stdout",
     "output_type": "stream",
     "text": [
      "conversations.yml Training: [####################] 100%\n",
      "greetings.yml Training: [####################] 100%\n",
      "trivia.yml Training: [####################] 100%\n",
      "ai.yml Training: [####################] 100%\n",
      "botprofile.yml Training: [####################] 100%\n",
      "computers.yml Training: [####################] 100%\n",
      "conversations.yml Training: [####################] 100%\n",
      "drugs.yml Training: [####################] 100%\n",
      "emotion.yml Training: [####################] 100%\n",
      "food.yml Training: [####################] 100%\n",
      "gossip.yml Training: [####################] 100%\n",
      "greetings.yml Training: [####################] 100%\n",
      "history.yml Training: [####################] 100%\n",
      "humor.yml Training: [####################] 100%\n",
      "literature.yml Training: [####################] 100%\n",
      "money.yml Training: [####################] 100%\n",
      "movies.yml Training: [####################] 100%\n",
      "politics.yml Training: [####################] 100%\n",
      "psychology.yml Training: [####################] 100%\n",
      "science.yml Training: [####################] 100%\n",
      "sports.yml Training: [####################] 100%\n",
      "trivia.yml Training: [####################] 100%\n"
     ]
    }
   ],
   "source": [
    "import itchat\n",
    "import os, codecs\n",
    "import datetime\n",
    "from itchat.content import *\n",
    "from time import strftime, gmtime\n",
    "from chatterbot import ChatBot\n",
    "from chatterbot.trainers import ChatterBotCorpusTrainer\n",
    "BotName=\"肖恩\"\n",
    "chatbot = ChatBot(\"BotName\")\n",
    "chatbot.set_trainer(ChatterBotCorpusTrainer)\n",
    "# 使用中文语料库训练它\n",
    "chatbot.train(\"chatterbot.corpus.chinese\")\n",
    "# 使用英文语料库训练它\n",
    "chatbot.train(\"chatterbot.corpus.english\")"
   ]
  },
  {
   "cell_type": "code",
   "execution_count": 2,
   "metadata": {},
   "outputs": [
    {
     "name": "stderr",
     "output_type": "stream",
     "text": [
      "Getting uuid of QR code.\n",
      "Downloading QR code.\n",
      "Please scan the QR code to log in.\n",
      "Please press confirm on your phone.\n",
      "Loading the contact, this may take a little while.\n",
      "Login successfully as 里卡多\n"
     ]
    }
   ],
   "source": [
    "FILENAME = datetime.datetime.now().strftime('%Y-%m-%d-%H-%M') +\".txt\"\n",
    "PATH = \"./outputweixin/\"\n",
    "if os.path.exists(PATH)==False:\n",
    "    os.makedirs(PATH)\n",
    "fp = codecs.open(PATH + FILENAME, \"a\", \"utf-8\")\n",
    "\n",
    "itchat.auto_login(enableCmdQR = False, hotReload = False)\n",
    "\n"
   ]
  },
  {
   "cell_type": "code",
   "execution_count": 3,
   "metadata": {
    "collapsed": true
   },
   "outputs": [],
   "source": [
    "@itchat.msg_register([TEXT, MAP, CARD, NOTE, SHARING])\n",
    "def text_send_test(msg):\n",
    "    res = datetime.datetime.now().strftime('%Y-%m-%d %H:%M:%S')+itchat.search_friends(userName =msg['FromUserName'])['NickName'] + \"to\"+itchat.search_friends(userName =msg['ToUserName'])['NickName']+ \":\"+msg['Text']\n",
    "    fp.write(res + \"\\n\\n\")\n",
    "    print (res) \n",
    "    res2 = datetime.datetime.now().strftime('%Y-%m-%d %H:%M:%S')+itchat.search_friends(userName =msg['ToUserName'])['NickName'] + \"to\"+itchat.search_friends(userName =msg['FromUserName'])['NickName']+ \":\"#+chatbot.get_response(msg['Text'])\n",
    "    #fp.write(res2 + \"\\n\\n\")\n",
    "    #print (res2) \n",
    "    \n",
    "    if itchat.search_friends(userName =msg['FromUserName'])['NickName']!=BotName:\n",
    "        res3=chatbot.get_response(msg['Text'])\n",
    "        print('%s%s'%(res2,res3)) \n",
    "        msg.user.send('%s' % (res3))\n",
    "        fp.write('%s%s\\n\\n'%(res2,res3))  \n",
    "        #print('%s%s'%(res2,chatbot.get_response(msg['Text'])))     \n",
    "        #msg.user.send('%s' % (chatbot.get_response(msg['Text'])))\n",
    "        #fp.write('%s%s\\n\\n'%(res2,chatbot.get_response(msg['Text'])))  "
   ]
  },
  {
   "cell_type": "code",
   "execution_count": 4,
   "metadata": {
    "collapsed": true
   },
   "outputs": [],
   "source": [
    "#@itchat.msg_register([TEXT, MAP, CARD, NOTE, SHARING])\n",
    "#def text_reply(msg):\n",
    "#    msg.user.send('%s: %s' % (msg.type, chatbot.get_response(msg['Text'])))"
   ]
  },
  {
   "cell_type": "code",
   "execution_count": 5,
   "metadata": {
    "collapsed": true
   },
   "outputs": [],
   "source": [
    "@itchat.msg_register(TEXT, isGroupChat = True)\n",
    "def Gchat(msg) :\n",
    "    gres = \"Group#\"+ \"/\"+ msg['FromUserName']+ \"/\" +datetime.datetime.now().strftime('%Y-%m-%d %H:%M:%S')+msg['ActualNickName'] + \":\" +msg['Text']\n",
    "    fp.write(gres + \"\\n\\n\")\n",
    "    print (gres)\n",
    "    if msg.isAt:\n",
    "        gres2 = \"Group#\"+ \"/\"+ msg['FromUserName']+ \"/\" +datetime.datetime.now().strftime('%Y-%m-%d %H:%M:%S')+BotName+\":@\"+msg['ActualNickName']\n",
    "        gres3=chatbot.get_response(msg['Text'])\n",
    "        msg.user.send(u'@%s\\u2005%s' % (\n",
    "            msg.actualNickName,  gres3))\n",
    "        print('%s%s'%(gres2,gres3)) \n",
    "        fp.write('%s%s\\n\\n'%(gres2,gres3))     \n",
    "\n"
   ]
  },
  {
   "cell_type": "code",
   "execution_count": 6,
   "metadata": {
    "collapsed": true
   },
   "outputs": [],
   "source": [
    "@itchat.msg_register([PICTURE, RECORDING, ATTACHMENT, VIDEO])\n",
    "def download_files(msg):\n",
    "    msg.download(\"./images/\"+msg.fileName)\n",
    "    itchat.send('@%s@%s' % (\n",
    "        'img' if msg['Type'] == 'Picture' else 'fil', msg['FileName']),\n",
    "        msg['FromUserName'])\n",
    "    return '%s received' % msg['Type']"
   ]
  },
  {
   "cell_type": "code",
   "execution_count": 7,
   "metadata": {
    "collapsed": true
   },
   "outputs": [],
   "source": [
    "@itchat.msg_register(FRIENDS)\n",
    "def add_friend(msg):\n",
    "    msg.user.verify()\n",
    "    msg.user.send('Nice to meet you!')"
   ]
  },
  {
   "cell_type": "code",
   "execution_count": null,
   "metadata": {
    "scrolled": true
   },
   "outputs": [
    {
     "name": "stderr",
     "output_type": "stream",
     "text": [
      "Start auto replying.\n"
     ]
    },
    {
     "name": "stdout",
     "output_type": "stream",
     "text": [
      "['@@c4a6a65962b7937454b1319c4dd09fbf3628c8cdb6bed28eb35b8c889afbaaa5', '@@e51d8687e7c7939b9bb83b6ae3227803c7d58c30202a568a013c65073c485b7f', '@@15faa9117f7db90b3b1b10c63c2a2f105488414807af8a9adda57c2cac5e9a89', '@@da504f86eb6630f5f523038691af019a7004cdedf1f611e0b461eae3f2a6aa7a', '@@7799bbc4d6a6f6b0bdade137952a794d5be15b2db87ee5a3436285ec2a54e3c0', '@@3ab7810d359b0d7d27af750ae7d2b35e8424fca5d4057f7e498a0101dce95fd9', '@@a61ef01480053db5b87c9d2c8f4c3cb628ee466df7b6c3d59d83c18b6b56940d', '@@a61ef01480053db5b87c9d2c8f4c3cb628ee466df7b6c3d59d83c18b6b56940d', '@@17cf4c3a804edc7a118b56aa9a1012950f91657ed5cafbb86ad102a3100cf290', '@@5951a87e2be2d70b239a2fa7432eed10978c793467121667c967db8735dd2fad', '@@a9602b455f499bfe8ec20a80f4d4d6e21d21d5568a999f7585bf0b2709b65b8f', '@@c6ee62461e008825034e224c8c47731bc1e1cc0763cd3e7032e3c4c877de93f5', '@@782eee0b7cfd307594a6a69a3577c21a4541c60d2e314b59cd26a483ff2220a4', '@@97d9aa42c0868a510be6da6aae6266d0f51399dfbd43073f5969e9d673a043cb', '@@2d8df49704dc483cd1303812b51b817a7bc5658fba3fb2fdc59888e89233ece3', '@@ad699c431b34969fe700d0e8745dd24f08740e219b06b6bed3d5b3b69c581cd0', '@@7f9e252356c158b6be34c92732c17c0724959ef852b6aaa1f4b7e90f0b589f08', '@@2c17ec5f6bf0abaac8605ffa624afe488d0adff83a6271a0dc7d1f48883ef53f', '@@866862de8b91561534da9d04b81094073d6c7494b893c9b51397381521aefd9a', '@@32afbd0a267675c1c3fdb50509ee9d37adf3fdcb551ac143ae1fd9ce5392b9a9', '@@3193de1dbc331081fa4b6ccb3c512861d186a3bc93ddcddf4560c7a5e19d63ff', '@@f881fdd9bb9289a014fc1e839e30a28a3bc760ad3616d221082490abe4ad1574', '@@15bc65576be1c8e588528f6586372a14a4a1836f5899c3a40a06dc2c6cb55b32', '@@7a59c08de3ebcad5cfcf24acd0e6c98d42d342333db5d78836ad2e040db547c2', '@@f5e6197adcb750533fc1e1567f680a90f4ea364579d553d894583eca7b7835cc', '@@6e835d9062b496f6fd81ccbd92328cd9801f49c5aa7c48b5ad620994effae152', '@@6c7749bbd2a48ceb44bb43e4ffdb05c0865ff7dcf7b474984954be7a1ec5780e', '@@62f78395d7afb20f2008e224792d91fcd3d9401d98c7eb0c57082ee4d413c54e', '@@e367d22a02eeae5080e834086f560bcff0af5d692260140901b7f5714acd6680', '@@0c0c545c69b912af55947fa0dc05bbb611381ca75f104fba1c303e1e584f0c5b', '@@a6edf6ffbbcb02697acb79f4fe2701a811993b69e735217e5f6e6e3f987e96ab', '@@d3447590862c01163a5517b8451c0f49b3b32982535e1c9f04593811ba540639', '@@128e4320951bd83bbed024f89832a5a96fb86fa865b3f57bec431a3c80878ce9', '@@7e4fa14830714498a6738cad6f3dcfc5a57e124a73e0407c636b05fc428453ed', '@@5d6bef42c96d3029488b8072435a41de8f06e7ea8e0ff5d27d1af865fb3aaf44', '@@f21921971f7bc0d77480b0ee02838c6f97d5f67dfdf19b8968e14fb8720ba954', '@@8d02e5c81776bea99d1a810c427d5a7d23cf86a473dfe477a1cc7310f2ceec79', '@@136c7b70a5770973b548cadde845c3bcd8a866ba9858bfb06648be041468310d', '@@d59f85a2cf951e30084e3eca432d91060bb83b8b3bdcca98b22ae6ed0ca4dd98', '@@3799b7c2796c17e0a7bc3714ed1cd6482aa5f34072a21d7341780563c392b1d4', '@@46c14c0e38686eb10d3999735984f0330165d83b26981271a9f65ff817349aba', '@@ca7e19f7a5d610f4bd3c40bc159d20146aaa16fd1ebef1eb44f11119b3c07aa5', '@@12b8e9d6aef8c23ca0538d2f6d8221bf19e032510340172087f457125f5908a8', '@@7d8f1df09f57d8207086a1250b81d27dec82ec0f97669103dc3fe47a09c5676a', '@@cc8b61797769ab71820cebe52d17d5c9f8b396e0609b1d5368157ad4a38ecd22', '@@838f34b393ce211708fd442ef9ab016f44ea3797f0bbb1f497e3111c892d299f', '@@15652cd54fad456e572c209f33cc830801a32158da99561207651f8e0d9a9c42', '@@52d219529598b94a5f6481ae2a8bfa3ca447a1ba56ba7db5a6ed587028671c35', '@@f7d16cd20776ad25261bd37ec8a5886f0892c395a9dc3dd8e5095cd04aae2c10', '@@15887ba48fb84c767fa118166dadccbdc5b7cd95c2bba0d99c9c7360fc188f20', '@@b0d314617a735e43418730b125030fa4284a8d123653179c96b9ad26a3b7cf72', '@@f2dcae8aaaeb68c2a635c41e4585822bc1bac00378ed5f2ac969abf6ee811893', '@@75eef2df847e732384d5f6c96c2f12a0c13f3ea2a621564290f1eeeb91f53f95', '@@3b184ab64922374fc8350dace497e658b4764052964524263b83e9e10a23019f', '@@a0608db3ab49b388156066c3477033d00a2cd914f6b277cda101fb007bd3c7d6', '@@936f08fb8fe12fa25ad91e1e577282cea2e9941fd1c7f46caa38b1b7446055de', '@@27b521d01cc7f054b48a227395b71d025902179d4afbf5b402b3a3fc81fd5350', '@@84036fa91674fa949bd20315a309056d5d53b9235407dde17b29120785993496', '@@1c98bf226c66ef632fa19fca76e20b9c6a0d6378898fd53ab4791c3f1d9a5a76', '@@29814748fcb0d112c602722044b67bb231359a426863e04461abfa771e7e4aad', '@@a89038a693eac4336475a67094da6451e98d1553840096e92bb857a6d6120570', '@@29faebb92d07943dee0c71bfeffa1d82acdc1f610abc94521d43aa8a13342877', '@@6463b589151c37841382ef57ab0be3d6a50891c016d324623eed394bf763cf22']\n",
      "正在监测的群聊： 63 个\n",
      "骑行京津冀－土名字 一起愉快的歌唱~ 我爱丽江夜晚 飞行器视频优化 关于串口AT指令 五月车迷节 iBeacon点子 iBeacon点子 一周一约 炒股小分队 一起大保健 常委局长主任和部长 清姐,都晓慧,空空,里卡多,朗月,小玉,侒侒 青海湖二号 展望人工智能的发展和可能带来的以 高行三帅 03年六年一班 天池大数据-白云机场客流预测 高行5宝 文萱掌门学习交流群🌸🌸🌸 学习帮 胶州嗨皮群 环青海湖 西青院Running Man 西交上海校友商务交流群 英语presentation小组 一大家人 纯洁群🍥 q op.1 no.5 y op.1 no.1 霓虹国 西青吃土圭垚群 里卡多,Cassie,美妮,JING66567,空空,Allen_Yu,朗月 终于找到你 OurBooks 西青院校友会交流群 一起大保健 西青院乒乓球协会 西青院 • 研究生（R） 19班 心里只有学习的男屌女神们 狼人小分队 🌸🌺 💐 百果鲜水果店 2017日本法政留学群 好家佳十全家福 武大郎烤饼 吃饭账单群 安得广厦千万间 七点烤吧 2016级青岛生活群 Oversea Master Student Group 斌哥粉丝群(红包群) 高三20班 UR邻居们 2016级西安交大软件_西安 老张直播间😃 黔沪青年 老师不在这儿 西交上海摄友群 期待2022年，再相聚～ 有空聊聊 部屋的日常 尼洪N DDP\n"
     ]
    },
    {
     "name": "stderr",
     "output_type": "stream",
     "text": [
      "Traceback (most recent call last):\n",
      "  File \"C:\\Users\\Prometheus\\Anaconda3\\lib\\site-packages\\itchat\\components\\register.py\", line 60, in configured_reply\n",
      "    r = replyFn(msg)\n",
      "  File \"<ipython-input-3-82eeb8f610b3>\", line 3, in text_send_test\n",
      "    res = datetime.datetime.now().strftime('%Y-%m-%d %H:%M:%S')+itchat.search_friends(userName =msg['FromUserName'])['NickName'] + \"to\"+itchat.search_friends(userName =msg['ToUserName'])['NickName']+ \":\"+msg['Text']\n",
      "TypeError: 'NoneType' object is not subscriptable\n",
      "\n",
      "Traceback (most recent call last):\n",
      "  File \"C:\\Users\\Prometheus\\Anaconda3\\lib\\site-packages\\itchat\\components\\register.py\", line 60, in configured_reply\n",
      "    r = replyFn(msg)\n",
      "  File \"<ipython-input-3-82eeb8f610b3>\", line 3, in text_send_test\n",
      "    res = datetime.datetime.now().strftime('%Y-%m-%d %H:%M:%S')+itchat.search_friends(userName =msg['FromUserName'])['NickName'] + \"to\"+itchat.search_friends(userName =msg['ToUserName'])['NickName']+ \":\"+msg['Text']\n",
      "TypeError: 'NoneType' object is not subscriptable\n",
      "\n"
     ]
    }
   ],
   "source": [
    "if __name__ == \"__main__\":\n",
    "    try:\n",
    "        chatrooms = itchat.get_chatrooms(update=True, contactOnly=True)\n",
    "        chatroom_ids = [c['UserName'] for c in chatrooms]\n",
    "        print(chatroom_ids)\n",
    "        print('正在监测的群聊：', len(chatrooms), '个')\n",
    "        print(' '.join([item['NickName'] for item in chatrooms]))\n",
    "        itchat.run()\n",
    "    except KeyboardInterrupt:\n",
    "        fp.close()\n",
    "        itchat.logout()"
   ]
  },
  {
   "cell_type": "code",
   "execution_count": null,
   "metadata": {
    "collapsed": true
   },
   "outputs": [],
   "source": []
  }
 ],
 "metadata": {
  "kernelspec": {
   "display_name": "Python 3",
   "language": "python",
   "name": "python3"
  },
  "language_info": {
   "codemirror_mode": {
    "name": "ipython",
    "version": 3
   },
   "file_extension": ".py",
   "mimetype": "text/x-python",
   "name": "python",
   "nbconvert_exporter": "python",
   "pygments_lexer": "ipython3",
   "version": "3.6.1"
  }
 },
 "nbformat": 4,
 "nbformat_minor": 2
}
