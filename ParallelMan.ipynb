{
 "cells": [
  {
   "cell_type": "code",
   "execution_count": 2,
   "metadata": {},
   "outputs": [
    {
     "name": "stdout",
     "output_type": "stream",
     "text": [
      "conversations.yml Training: [####################] 100%\n",
      "greetings.yml Training: [####################] 100%\n",
      "trivia.yml Training: [####################] 100%\n",
      "ai.yml Training: [####################] 100%\n",
      "botprofile.yml Training: [####################] 100%\n",
      "computers.yml Training: [####################] 100%\n",
      "conversations.yml Training: [####################] 100%\n",
      "drugs.yml Training: [####################] 100%\n",
      "emotion.yml Training: [####################] 100%\n",
      "food.yml Training: [####################] 100%\n",
      "gossip.yml Training: [####################] 100%\n",
      "greetings.yml Training: [####################] 100%\n",
      "history.yml Training: [####################] 100%\n",
      "humor.yml Training: [####################] 100%\n",
      "literature.yml Training: [####################] 100%\n",
      "money.yml Training: [####################] 100%\n",
      "movies.yml Training: [####################] 100%\n",
      "politics.yml Training: [####################] 100%\n",
      "psychology.yml Training: [####################] 100%\n",
      "science.yml Training: [####################] 100%\n",
      "sports.yml Training: [####################] 100%\n",
      "trivia.yml Training: [####################] 100%\n"
     ]
    }
   ],
   "source": [
    "# -*- coding: utf-8 -*-\n",
    "\"\"\"\n",
    "Spyder Editor\n",
    "\n",
    "This is a temporary script file.\n",
    "\"\"\"\n",
    "\n",
    "import itchat\n",
    "import os, codecs\n",
    "import datetime\n",
    "import threading\n",
    "import time\n",
    "from itchat.content import *\n",
    "from time import strftime, gmtime\n",
    "from chatterbot import ChatBot\n",
    "from chatterbot.trainers import ChatterBotCorpusTrainer\n",
    "\n",
    "BotName = \"iknow\"\n",
    "# BotName = \"里卡多\"\n",
    "chatbot = ChatBot(\"BotName\")\n",
    "\n",
    "chatbot.set_trainer(ChatterBotCorpusTrainer)\n",
    "# 使用中文语料库训练它\n",
    "chatbot.train(\"chatterbot.corpus.chinese\")\n",
    "# 使用英文语料库训练它\n",
    "chatbot.train(\"chatterbot.corpus.english\")"
   ]
  },
  {
   "cell_type": "code",
   "execution_count": 11,
   "metadata": {},
   "outputs": [],
   "source": [
    "groupID = ''\n",
    "links = []\n",
    "FILENAME = datetime.datetime.now().strftime('%Y-%m-%d-%H-%M') + \".txt\"\n",
    "PATH = \"./outputweixin/\"\n",
    "if os.path.exists(PATH) == False:\n",
    "    os.makedirs(PATH)\n",
    "fp = codecs.open(PATH + FILENAME, \"a\", \"utf-8\")\n",
    "\n",
    "itchat.auto_login(enableCmdQR=False, hotReload=True)"
   ]
  },
  {
   "cell_type": "code",
   "execution_count": 12,
   "metadata": {},
   "outputs": [],
   "source": [
    "@itchat.msg_register(SHARING, isGroupChat=True)\n",
    "def text_reply(msg):\n",
    "    tempLink = {}\n",
    "    if msg['FromUserName'] == groupID:\n",
    "        tempLink['time'] = datetime.datetime.now().strftime('%Y-%m-%d %H:%M:%S')\n",
    "        tempLink['text'] = msg.text\n",
    "        tempLink['ActualNickName'] = msg['ActualNickName']\n",
    "        tempLink['Url'] = msg['Url']\n",
    "        links.append(tempLink)\n",
    "        print(links)\n",
    "\n",
    "    # itchat.send(msg)\n",
    "    print(msg['FromUserName'])\n",
    "    print(msg.text)\n",
    "    print(msg['Url'])\n",
    "    print('hahahahhaahhha')"
   ]
  },
  {
   "cell_type": "code",
   "execution_count": 13,
   "metadata": {
    "collapsed": true
   },
   "outputs": [],
   "source": [
    "@itchat.msg_register([TEXT, MAP, CARD, NOTE], isFriendChat=True, isGroupChat=True, isMpChat=True)\n",
    "def text_send_test(msg):\n",
    "    print('the FromUserName:' + msg['FromUserName'])\n",
    "    print('the ToUserName:' + msg['ToUserName'])\n",
    "    res = datetime.datetime.now().strftime('%Y-%m-%d %H:%M:%S') + itchat.search_friends(userName=msg['FromUserName'])[\n",
    "        'NickName'] + \" to \" + itchat.search_friends(userName=msg['ToUserName'])['NickName'] + \":\" + msg['Text']\n",
    "    fp.write(res + \"\\n\\n\")\n",
    "    print(res)\n",
    "    res2 = datetime.datetime.now().strftime('%Y-%m-%d %H:%M:%S') + itchat.search_friends(userName=msg['ToUserName'])[\n",
    "        'NickName'] + \" to \" + itchat.search_friends(userName=msg['FromUserName'])[\n",
    "               'NickName'] + \":\"  # +chatbot.get_response(msg['Text'])\n",
    "    # fp.write(res2 + \"\\n\\n\")\n",
    "    # print (res2)\n",
    "\n",
    "    if itchat.search_friends(userName=msg['FromUserName'])['NickName'] != BotName:\n",
    "        res3 = chatbot.get_response(msg['Text'])\n",
    "        print('%s%s' % (res2, res3))\n",
    "        msg.user.send('%s' % (res3))\n",
    "        fp.write('%s%s\\n\\n' % (res2, res3))"
   ]
  },
  {
   "cell_type": "code",
   "execution_count": 14,
   "metadata": {
    "collapsed": true
   },
   "outputs": [],
   "source": [
    "# @itchat.msg_register([TEXT, MAP, CARD, NOTE, SHARING])\n",
    "# def text_reply(msg):\n",
    "#    msg.user.send('%s: %s' % (msg.type, chatbot.get_response(msg['Text'])))\n",
    "\n",
    "@itchat.msg_register(TEXT, isGroupChat=True)\n",
    "def Gchat(msg):\n",
    "    gres = \"Group#\" + \"/\" + msg['FromUserName'] + \"/\" + datetime.datetime.now().strftime('%Y-%m-%d %H:%M:%S') + msg[\n",
    "        'ActualNickName'] + \":\" + msg['Text']\n",
    "    fp.write(gres + \"\\n\\n\")\n",
    "    print(gres)\n",
    "    if msg.isAt:\n",
    "        gres2 = \"Group#\" + \"/\" + msg['FromUserName'] + \"/\" + datetime.datetime.now().strftime(\n",
    "            '%Y-%m-%d %H:%M:%S') + BotName + \":@\" + msg['ActualNickName']\n",
    "        gres3 = chatbot.get_response(msg['Text'])\n",
    "        msg.user.send(u'@%s\\u2005%s' % (\n",
    "            msg.actualNickName, gres3))\n",
    "        print('%s%s' % (gres2, gres3))\n",
    "        fp.write('%s%s\\n\\n' % (gres2, gres3))"
   ]
  },
  {
   "cell_type": "code",
   "execution_count": 15,
   "metadata": {
    "collapsed": true
   },
   "outputs": [],
   "source": [
    "@itchat.msg_register([PICTURE, RECORDING, ATTACHMENT, VIDEO], isFriendChat=True, isGroupChat=True, isMpChat=True)\n",
    "def download_files(msg):\n",
    "    IMGPATH = \"./images/\"\n",
    "    if os.path.exists(IMGPATH) == False:\n",
    "        os.makedirs(IMGPATH)\n",
    "    msg.download(IMGPATH + msg.fileName)\n",
    "    itchat.send('@%s@%s' % (\n",
    "        'img' if msg['Type'] == 'Picture' else 'fil', msg['FileName']),\n",
    "                msg['FromUserName'])\n",
    "    return '%s received' % msg['Type']"
   ]
  },
  {
   "cell_type": "code",
   "execution_count": 16,
   "metadata": {
    "collapsed": true
   },
   "outputs": [],
   "source": [
    "@itchat.msg_register(FRIENDS)\n",
    "def add_friend(msg):\n",
    "    msg.user.verify()\n",
    "    msg.user.send('Nice to meet you!')"
   ]
  },
  {
   "cell_type": "code",
   "execution_count": 17,
   "metadata": {
    "collapsed": true
   },
   "outputs": [],
   "source": [
    "def timer(delay):\n",
    "    '''''\n",
    "    每n秒执行一次\n",
    "    '''\n",
    "    while True:\n",
    "        # print(time.strftime('%Y-%m-%d %X',time.localtime()))\n",
    "        #if datetime.datetime.now().strftime('%Y-%m-%d %H:%M:%S') == '2017-10-29 15:35:00':\n",
    "        if (datetime.datetime.now().strftime('%H:%M:%S') == '15:35:00') and (links is not []):\n",
    "            itchat.send('There are some shared links ...', toUserName=linkReceiver)\n",
    "            for link in links:\n",
    "                gles = link['time'] + \" \" + link['ActualNickName'] + \":\" + link['text']\n",
    "                itchat.send(gles, toUserName=linkReceiver)\n",
    "                itchat.send(link['Url'], toUserName=linkReceiver)\n",
    "            del links[:]\n",
    "        time.sleep(delay)"
   ]
  },
  {
   "cell_type": "code",
   "execution_count": null,
   "metadata": {},
   "outputs": [
    {
     "name": "stderr",
     "output_type": "stream",
     "text": [
      "Start auto replying.\n"
     ]
    },
    {
     "name": "stdout",
     "output_type": "stream",
     "text": [
      "@@26d2a3d8bcf02b234dad010832d60d91665f2ab22421214fc376c287820012d3\n",
      "[{'Uin': 0, 'UserName': '@@26d2a3d8bcf02b234dad010832d60d91665f2ab22421214fc376c287820012d3', 'NickName': 'Oversea Master Student Group', 'HeadImgUrl': '/cgi-bin/mmwebwx-bin/webwxgetheadimg?seq=670986072&username=@@26d2a3d8bcf02b234dad010832d60d91665f2ab22421214fc376c287820012d3&skey=@crypt_a537bf3a_ee92df6de838c2c9992c446241c96c3b', 'ContactFlag': 3, 'MemberCount': 0, 'MemberList': [], 'RemarkName': '', 'HideInputBarFlag': 0, 'Sex': 0, 'Signature': '', 'VerifyFlag': 0, 'OwnerUin': 0, 'PYInitial': 'OVERSEAMASTERSTUDENTGROUP', 'PYQuanPin': 'OverseaMasterStudentGroup', 'RemarkPYInitial': '', 'RemarkPYQuanPin': '', 'StarFriend': 0, 'AppAccountFlag': 0, 'Statues': 1, 'AttrStatus': 0, 'Province': '', 'City': '', 'Alias': '', 'SnsFlag': 0, 'UniFriend': 0, 'DisplayName': '', 'ChatRoomId': 0, 'KeyWord': '', 'EncryChatRoomId': '', 'IsOwner': 0}]\n",
      "['@@26d2a3d8bcf02b234dad010832d60d91665f2ab22421214fc376c287820012d3']\n",
      "正在监测的群聊： 1 个\n",
      "Oversea Master Student Group\n",
      "all is ok !!!!!\n"
     ]
    }
   ],
   "source": [
    "if __name__ == \"__main__\":\n",
    "    try:\n",
    "        chatrooms = itchat.get_chatrooms(update=True, contactOnly=True)\n",
    "        chatroom_ids = [c['UserName'] for c in chatrooms]\n",
    "        groupIDs = [item['UserName'] for item in chatrooms if item['NickName']=='Oversea Master Student Group'] \n",
    "        groupID = groupIDs[0]\n",
    "        print(groupID)\n",
    "        print(chatrooms)\n",
    "        print(chatroom_ids)\n",
    "        print('正在监测的群聊：', len(chatrooms), '个')\n",
    "        print(' '.join([item['NickName'] for item in chatrooms]))\n",
    "        threads = []\n",
    "        #Oversea Master Student Group\n",
    "        # t = threading.Thread(target = itchat.run,args=())\n",
    "        # threads.append(t)\n",
    "        # t.start()\n",
    "        t = threading.Thread(target=timer, args=(0.1,))\n",
    "        threads.append(t)\n",
    "        t.start()\n",
    "        print('all is ok !!!!!')\n",
    "        itchat.run()\n",
    "\n",
    "\n",
    "\n",
    "    except KeyboardInterrupt:\n",
    "        t.exit()\n",
    "        fp.close()\n",
    "        itchat.logout()"
   ]
  },
  {
   "cell_type": "code",
   "execution_count": null,
   "metadata": {
    "collapsed": true
   },
   "outputs": [],
   "source": []
  }
 ],
 "metadata": {
  "kernelspec": {
   "display_name": "Python 3",
   "language": "python",
   "name": "python3"
  },
  "language_info": {
   "codemirror_mode": {
    "name": "ipython",
    "version": 3
   },
   "file_extension": ".py",
   "mimetype": "text/x-python",
   "name": "python",
   "nbconvert_exporter": "python",
   "pygments_lexer": "ipython3",
   "version": "3.6.2"
  }
 },
 "nbformat": 4,
 "nbformat_minor": 2
}
